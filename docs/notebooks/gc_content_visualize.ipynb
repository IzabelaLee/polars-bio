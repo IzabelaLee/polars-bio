{
 "cells": [
  {
   "cell_type": "markdown",
   "id": "0fb64fc4",
   "metadata": {},
   "source": [
    "**Zespół numer 11**: Katarzyna Zaleska, Katarzyna Witowska, Izabela Lengiewicz\n",
    "\n",
    "**Implementowana funkcja**: `gc_content`"
   ]
  },
  {
   "cell_type": "markdown",
   "id": "44753d24",
   "metadata": {},
   "source": [
    "## **Wprowadzenie**\n",
    "\n",
    "W ramach tego etapu projektu stworzona została funkcja gc_content w pliku `src/gc_content.rs`.\n",
    "\n",
    "Funkcję tę można wykorzystywać w zapytaniach SQL w silniku `DataFusion`. Jej zadaniem jest obliczenie zawartości GC w sekwencjach DNA – czyli procentowego udziału nukleotydów G (guanina) i C (cytozyna) w stosunku do całkowitej liczby znaków w sekwencji (z pominięciem znaków N, które oznaczają nieokreślony nukleotyd).  Sekwencje są najpierw przekształcane do postaci bajtowej, a następnie zliczane są odpowiednie znaki. Jeśli sekwencja zawiera wyłącznie N, funkcja zwraca 0. Całość rejestrowana jest jako UDF (user-defined function) typu Skalar (pobiera wiersz danych i zwraca pojedynczą wartość), dzięki czemu można jej używać w SQL pod nazwą gc_content."
   ]
  },
  {
   "cell_type": "code",
   "execution_count": 3,
   "id": "704d0e9c",
   "metadata": {},
   "outputs": [
    {
     "name": "stderr",
     "output_type": "stream",
     "text": [
      "INFO:polars_bio:Creating BioSessionContext\n"
     ]
    }
   ],
   "source": [
    "import matplotlib.pyplot as plt\n",
    "import pandas as pd\n",
    "import subprocess\n",
    "import time\n",
    "\n",
    "import polars_bio as pb"
   ]
  },
  {
   "cell_type": "markdown",
   "id": "a1ef19a1",
   "metadata": {},
   "source": [
    "### **Przykład działania funkcji**"
   ]
  },
  {
   "cell_type": "code",
   "execution_count": 4,
   "id": "72d7df04",
   "metadata": {},
   "outputs": [
    {
     "name": "stderr",
     "output_type": "stream",
     "text": [
      "INFO:polars_bio:Table: example registered for path: /home/kzaleskaa/Projects/tbd-zespol-11/polars-bio/tests/data/example.fastq\n"
     ]
    },
    {
     "data": {
      "application/vnd.jupyter.widget-view+json": {
       "model_id": "ef9daae778c14702996a7c52e3491dd1",
       "version_major": 2,
       "version_minor": 0
      },
      "text/plain": [
       "0rows [00:00, ?rows/s]"
      ]
     },
     "metadata": {},
     "output_type": "display_data"
    }
   ],
   "source": [
    "df = pb.read_fastq(\"/home/kzaleskaa/Projects/tbd-zespol-11/polars-bio/tests/data/example.fastq\").collect()"
   ]
  },
  {
   "cell_type": "code",
   "execution_count": 5,
   "id": "edfb068d",
   "metadata": {},
   "outputs": [
    {
     "data": {
      "application/vnd.jupyter.widget-view+json": {
       "model_id": "e7b61a33907b438792f58700013febe3",
       "version_major": 2,
       "version_minor": 0
      },
      "text/plain": [
       "0rows [00:00, ?rows/s]"
      ]
     },
     "metadata": {},
     "output_type": "display_data"
    },
    {
     "data": {
      "text/html": [
       "<div><style>\n",
       ".dataframe > thead > tr,\n",
       ".dataframe > tbody > tr {\n",
       "  text-align: right;\n",
       "  white-space: pre-wrap;\n",
       "}\n",
       "</style>\n",
       "<small>shape: (6, 4)</small><table border=\"1\" class=\"dataframe\"><thead><tr><th>table_catalog</th><th>table_schema</th><th>table_name</th><th>table_type</th></tr><tr><td>str</td><td>str</td><td>str</td><td>str</td></tr></thead><tbody><tr><td>&quot;datafusion&quot;</td><td>&quot;public&quot;</td><td>&quot;example&quot;</td><td>&quot;BASE TABLE&quot;</td></tr><tr><td>&quot;datafusion&quot;</td><td>&quot;information_schema&quot;</td><td>&quot;tables&quot;</td><td>&quot;VIEW&quot;</td></tr><tr><td>&quot;datafusion&quot;</td><td>&quot;information_schema&quot;</td><td>&quot;views&quot;</td><td>&quot;VIEW&quot;</td></tr><tr><td>&quot;datafusion&quot;</td><td>&quot;information_schema&quot;</td><td>&quot;columns&quot;</td><td>&quot;VIEW&quot;</td></tr><tr><td>&quot;datafusion&quot;</td><td>&quot;information_schema&quot;</td><td>&quot;df_settings&quot;</td><td>&quot;VIEW&quot;</td></tr><tr><td>&quot;datafusion&quot;</td><td>&quot;information_schema&quot;</td><td>&quot;schemata&quot;</td><td>&quot;VIEW&quot;</td></tr></tbody></table></div>"
      ],
      "text/plain": [
       "shape: (6, 4)\n",
       "┌───────────────┬────────────────────┬─────────────┬────────────┐\n",
       "│ table_catalog ┆ table_schema       ┆ table_name  ┆ table_type │\n",
       "│ ---           ┆ ---                ┆ ---         ┆ ---        │\n",
       "│ str           ┆ str                ┆ str         ┆ str        │\n",
       "╞═══════════════╪════════════════════╪═════════════╪════════════╡\n",
       "│ datafusion    ┆ public             ┆ example     ┆ BASE TABLE │\n",
       "│ datafusion    ┆ information_schema ┆ tables      ┆ VIEW       │\n",
       "│ datafusion    ┆ information_schema ┆ views       ┆ VIEW       │\n",
       "│ datafusion    ┆ information_schema ┆ columns     ┆ VIEW       │\n",
       "│ datafusion    ┆ information_schema ┆ df_settings ┆ VIEW       │\n",
       "│ datafusion    ┆ information_schema ┆ schemata    ┆ VIEW       │\n",
       "└───────────────┴────────────────────┴─────────────┴────────────┘"
      ]
     },
     "execution_count": 5,
     "metadata": {},
     "output_type": "execute_result"
    }
   ],
   "source": [
    "pb.sql(\"show tables\").collect()"
   ]
  },
  {
   "cell_type": "code",
   "execution_count": 6,
   "id": "606b9b86",
   "metadata": {},
   "outputs": [
    {
     "data": {
      "application/vnd.jupyter.widget-view+json": {
       "model_id": "0fee48b519334343a7cff06374f27c1f",
       "version_major": 2,
       "version_minor": 0
      },
      "text/plain": [
       "0rows [00:00, ?rows/s]"
      ]
     },
     "metadata": {},
     "output_type": "display_data"
    },
    {
     "data": {
      "text/html": [
       "<div><style>\n",
       ".dataframe > thead > tr,\n",
       ".dataframe > tbody > tr {\n",
       "  text-align: right;\n",
       "  white-space: pre-wrap;\n",
       "}\n",
       "</style>\n",
       "<small>shape: (200, 4)</small><table border=\"1\" class=\"dataframe\"><thead><tr><th>name</th><th>description</th><th>sequence</th><th>quality_scores</th></tr><tr><td>str</td><td>str</td><td>str</td><td>str</td></tr></thead><tbody><tr><td>&quot;SRR9130495.1&quot;</td><td>&quot;D00236:723:HG32CBCX2:1:1108:13…</td><td>&quot;NCAATACAAAAGCAATATGGGAGAAGCTAC…</td><td>&quot;#4BDFDFFHGHGGJJJHIIIIGGIIJGJJG…</td></tr><tr><td>&quot;SRR9130495.2&quot;</td><td>&quot;D00236:723:HG32CBCX2:1:1108:14…</td><td>&quot;NGTCAAAGATAAGATCAAAAGGCACTGGCT…</td><td>&quot;#1=DDDDD&gt;DHFH@EFHHGHGGFGIIIGIG…</td></tr><tr><td>&quot;SRR9130495.3&quot;</td><td>&quot;D00236:723:HG32CBCX2:1:1108:17…</td><td>&quot;GTTTTCCTCTGGTTATTTCTAGGTACACTG…</td><td>&quot;@@@DDDFFHHHFHBHIIGJIJIIJIIIEHG…</td></tr><tr><td>&quot;SRR9130495.4&quot;</td><td>&quot;D00236:723:HG32CBCX2:1:1108:16…</td><td>&quot;GGGAGGCGCCCCGACCGGCCAGGGCGTGAG…</td><td>&quot;CCCFFFFFHHHHGHIIIGIIJIIIJJGHFF…</td></tr><tr><td>&quot;SRR9130495.5&quot;</td><td>&quot;D00236:723:HG32CBCX2:1:1108:16…</td><td>&quot;CACTCCGCCACTACAGCAGTCCCCCAGTGT…</td><td>&quot;++=A1A:1ADA&lt;;FFDC?;CG&lt;F;::1CFI…</td></tr><tr><td>&hellip;</td><td>&hellip;</td><td>&hellip;</td><td>&hellip;</td></tr><tr><td>&quot;SRR9130495.196&quot;</td><td>&quot;D00236:723:HG32CBCX2:1:1108:99…</td><td>&quot;TCTTGTGAAGAAGATGCTGTTGGAAGCCTC…</td><td>&quot;CCCFFFFFHGDFGIIJJIJJIGGJJIIJJI…</td></tr><tr><td>&quot;SRR9130495.197&quot;</td><td>&quot;D00236:723:HG32CBCX2:1:1108:99…</td><td>&quot;TGGGGCTGTGAACCGAAGTCTGCTCCTTTG…</td><td>&quot;@BCFFDAFHHHHHIIIIHIIJIIJIIJJJI…</td></tr><tr><td>&quot;SRR9130495.198&quot;</td><td>&quot;D00236:723:HG32CBCX2:1:1108:10…</td><td>&quot;ATGTGCTCAAAGGCTGGGTGGACCTTACCT…</td><td>&quot;@CCFFFDDFFBHDHIIIBFEGFGHGHGDFH…</td></tr><tr><td>&quot;SRR9130495.199&quot;</td><td>&quot;D00236:723:HG32CBCX2:1:1108:10…</td><td>&quot;GCCCTGGGATTGTCCCTCTGGGCACAGGGA…</td><td>&quot;CCCFFBDDHHHFHJIIIJJJJIIIIIFIIE…</td></tr><tr><td>&quot;SRR9130495.200&quot;</td><td>&quot;D00236:723:HG32CBCX2:1:1108:10…</td><td>&quot;ATGGAGGATGGCACCCTGCAGGCTGGCCCA…</td><td>&quot;@@CDFFDFGFHFFIJGGII&lt;GIJGIJDIIJ…</td></tr></tbody></table></div>"
      ],
      "text/plain": [
       "shape: (200, 4)\n",
       "┌────────────────┬───────────────────────────┬──────────────────────────┬──────────────────────────┐\n",
       "│ name           ┆ description               ┆ sequence                 ┆ quality_scores           │\n",
       "│ ---            ┆ ---                       ┆ ---                      ┆ ---                      │\n",
       "│ str            ┆ str                       ┆ str                      ┆ str                      │\n",
       "╞════════════════╪═══════════════════════════╪══════════════════════════╪══════════════════════════╡\n",
       "│ SRR9130495.1   ┆ D00236:723:HG32CBCX2:1:11 ┆ NCAATACAAAAGCAATATGGGAGA ┆ #4BDFDFFHGHGGJJJHIIIIGGI │\n",
       "│                ┆ 08:13…                    ┆ AGCTAC…                  ┆ IJGJJG…                  │\n",
       "│ SRR9130495.2   ┆ D00236:723:HG32CBCX2:1:11 ┆ NGTCAAAGATAAGATCAAAAGGCA ┆ #1=DDDDD>DHFH@EFHHGHGGFG │\n",
       "│                ┆ 08:14…                    ┆ CTGGCT…                  ┆ IIIGIG…                  │\n",
       "│ SRR9130495.3   ┆ D00236:723:HG32CBCX2:1:11 ┆ GTTTTCCTCTGGTTATTTCTAGGT ┆ @@@DDDFFHHHFHBHIIGJIJIIJ │\n",
       "│                ┆ 08:17…                    ┆ ACACTG…                  ┆ IIIEHG…                  │\n",
       "│ SRR9130495.4   ┆ D00236:723:HG32CBCX2:1:11 ┆ GGGAGGCGCCCCGACCGGCCAGGG ┆ CCCFFFFFHHHHGHIIIGIIJIII │\n",
       "│                ┆ 08:16…                    ┆ CGTGAG…                  ┆ JJGHFF…                  │\n",
       "│ SRR9130495.5   ┆ D00236:723:HG32CBCX2:1:11 ┆ CACTCCGCCACTACAGCAGTCCCC ┆ ++=A1A:1ADA<;FFDC?;CG<F; │\n",
       "│                ┆ 08:16…                    ┆ CAGTGT…                  ┆ ::1CFI…                  │\n",
       "│ …              ┆ …                         ┆ …                        ┆ …                        │\n",
       "│ SRR9130495.196 ┆ D00236:723:HG32CBCX2:1:11 ┆ TCTTGTGAAGAAGATGCTGTTGGA ┆ CCCFFFFFHGDFGIIJJIJJIGGJ │\n",
       "│                ┆ 08:99…                    ┆ AGCCTC…                  ┆ JIIJJI…                  │\n",
       "│ SRR9130495.197 ┆ D00236:723:HG32CBCX2:1:11 ┆ TGGGGCTGTGAACCGAAGTCTGCT ┆ @BCFFDAFHHHHHIIIIHIIJIIJ │\n",
       "│                ┆ 08:99…                    ┆ CCTTTG…                  ┆ IIJJJI…                  │\n",
       "│ SRR9130495.198 ┆ D00236:723:HG32CBCX2:1:11 ┆ ATGTGCTCAAAGGCTGGGTGGACC ┆ @CCFFFDDFFBHDHIIIBFEGFGH │\n",
       "│                ┆ 08:10…                    ┆ TTACCT…                  ┆ GHGDFH…                  │\n",
       "│ SRR9130495.199 ┆ D00236:723:HG32CBCX2:1:11 ┆ GCCCTGGGATTGTCCCTCTGGGCA ┆ CCCFFBDDHHHFHJIIIJJJJIII │\n",
       "│                ┆ 08:10…                    ┆ CAGGGA…                  ┆ IIFIIE…                  │\n",
       "│ SRR9130495.200 ┆ D00236:723:HG32CBCX2:1:11 ┆ ATGGAGGATGGCACCCTGCAGGCT ┆ @@CDFFDFGFHFFIJGGII<GIJG │\n",
       "│                ┆ 08:10…                    ┆ GGCCCA…                  ┆ IJDIIJ…                  │\n",
       "└────────────────┴───────────────────────────┴──────────────────────────┴──────────────────────────┘"
      ]
     },
     "execution_count": 6,
     "metadata": {},
     "output_type": "execute_result"
    }
   ],
   "source": [
    "pb.sql(\"select * from example\").collect()"
   ]
  },
  {
   "cell_type": "code",
   "execution_count": 7,
   "id": "26006fce",
   "metadata": {},
   "outputs": [
    {
     "data": {
      "application/vnd.jupyter.widget-view+json": {
       "model_id": "091d1f9d7a7d4ceabb0a1d4dd1e8a582",
       "version_major": 2,
       "version_minor": 0
      },
      "text/plain": [
       "0rows [00:00, ?rows/s]"
      ]
     },
     "metadata": {},
     "output_type": "display_data"
    },
    {
     "name": "stdout",
     "output_type": "stream",
     "text": [
      "Query execution time: 0.03 seconds\n"
     ]
    }
   ],
   "source": [
    "start = time.time()\n",
    "df_results = pb.sql(\"select sequence, gc_content(sequence) as gc from example\").collect()\n",
    "end = time.time()\n",
    "\n",
    "print(f\"Query execution time: {end - start:.2f} seconds\")"
   ]
  },
  {
   "cell_type": "markdown",
   "id": "44c68fbb",
   "metadata": {},
   "source": [
    "### **Wizualizacja wyników**"
   ]
  },
  {
   "cell_type": "code",
   "execution_count": 8,
   "id": "330992a3",
   "metadata": {},
   "outputs": [
    {
     "data": {
      "image/png": "[encoded data removed]",
      "text/plain": [
       "<Figure size 800x500 with 1 Axes>"
      ]
     },
     "metadata": {},
     "output_type": "display_data"
    }
   ],
   "source": [
    "df_results = df_results.to_pandas()\n",
    "plt.figure(figsize=(8, 5))\n",
    "df_results['gc'].hist(bins=30, edgecolor='black')\n",
    "plt.xlabel('GC content (%)')\n",
    "plt.ylabel('Count')\n",
    "plt.title('Distribution of GC Content per Read')\n",
    "plt.grid(True)\n",
    "plt.tight_layout()\n",
    "plt.show()"
   ]
  },
  {
   "cell_type": "markdown",
   "id": "48534a39",
   "metadata": {},
   "source": [
    "### **Porównanie z wzorcową implementacją (mały plik)**"
   ]
  },
  {
   "cell_type": "markdown",
   "id": "08331c0e",
   "metadata": {},
   "source": [
    "Podczas analizy zauważyłyśmy nieścisłość w implementacji wzorcowej funkcji GC content. Fragment kodu odpowiedzialny za odfiltrowanie znaków N z sekwencji nie działał poprawnie. Problem wynikał z użycia operatora logicznego or (`||`) zamiast and (`&&`), co skutkowało brakiem rzeczywistej filtracji.\n",
    "Z powodu tego błędu znaki N (oznaczające nieznane nukleotydy) były nadal uwzględniane w obliczeniach zawartości GC, co mogło zaniżać lub zawyżać wyniki.\n",
    "\n",
    "Zarówno w naszej implementacji, jak i w poprawionej wersji wzorcowej, zastosowano spójną logikę, co zapewnia skuteczne filtrowanie znaków `N` lub `n`."
   ]
  },
  {
   "cell_type": "code",
   "execution_count": 9,
   "id": "a9040910",
   "metadata": {},
   "outputs": [
    {
     "name": "stdout",
     "output_type": "stream",
     "text": [
      "Execution time: 0.00791 seconds\n"
     ]
    }
   ],
   "source": [
    "start = time.time()\n",
    "\n",
    "subprocess.run(\n",
    "    [\n",
    "        \"fqc\",\n",
    "        \"-q\",\n",
    "        \"/home/kzaleskaa/Projects/tbd-zespol-11/polars-bio/fastqc-rs/tests/resources/example.fastq\"\n",
    "    ],\n",
    "    stdout=open(\"report.json\", \"w\")\n",
    ")\n",
    "\n",
    "end = time.time()\n",
    "print(f\"Execution time: {end - start:.5f} seconds\")"
   ]
  },
  {
   "cell_type": "code",
   "execution_count": 10,
   "id": "9d5481de",
   "metadata": {},
   "outputs": [
    {
     "data": {
      "text/html": [
       "<div>\n",
       "<style scoped>\n",
       "    .dataframe tbody tr th:only-of-type {\n",
       "        vertical-align: middle;\n",
       "    }\n",
       "\n",
       "    .dataframe tbody tr th {\n",
       "        vertical-align: top;\n",
       "    }\n",
       "\n",
       "    .dataframe thead th {\n",
       "        text-align: right;\n",
       "    }\n",
       "</style>\n",
       "<table border=\"1\" class=\"dataframe\">\n",
       "  <thead>\n",
       "    <tr style=\"text-align: right;\">\n",
       "      <th></th>\n",
       "      <th>gc_percent</th>\n",
       "      <th>read_length</th>\n",
       "    </tr>\n",
       "  </thead>\n",
       "  <tbody>\n",
       "    <tr>\n",
       "      <th>0</th>\n",
       "      <td>40.789474</td>\n",
       "      <td>101</td>\n",
       "    </tr>\n",
       "    <tr>\n",
       "      <th>1</th>\n",
       "      <td>36.046513</td>\n",
       "      <td>101</td>\n",
       "    </tr>\n",
       "    <tr>\n",
       "      <th>2</th>\n",
       "      <td>36.363636</td>\n",
       "      <td>101</td>\n",
       "    </tr>\n",
       "    <tr>\n",
       "      <th>3</th>\n",
       "      <td>76.237625</td>\n",
       "      <td>101</td>\n",
       "    </tr>\n",
       "    <tr>\n",
       "      <th>4</th>\n",
       "      <td>54.455444</td>\n",
       "      <td>101</td>\n",
       "    </tr>\n",
       "  </tbody>\n",
       "</table>\n",
       "</div>"
      ],
      "text/plain": [
       "   gc_percent  read_length\n",
       "0   40.789474          101\n",
       "1   36.046513          101\n",
       "2   36.363636          101\n",
       "3   76.237625          101\n",
       "4   54.455444          101"
      ]
     },
     "execution_count": 10,
     "metadata": {},
     "output_type": "execute_result"
    }
   ],
   "source": [
    "df_report = pd.read_json(\"/home/kzaleskaa/Projects/tbd-zespol-11/polars-bio/fastqc-rs/report.json\")\n",
    "df_report.head()"
   ]
  },
  {
   "cell_type": "code",
   "execution_count": 11,
   "id": "5cabfd81",
   "metadata": {},
   "outputs": [],
   "source": [
    "df_compare = pd.DataFrame({\n",
    "    \"gc_fqc\": df_report[\"gc_percent\"],\n",
    "    \"gc_custom\": df_results[\"gc\"]\n",
    "})\n",
    "df_compare[\"abs_diff\"] = (df_compare[\"gc_fqc\"] - df_compare[\"gc_custom\"]).abs()"
   ]
  },
  {
   "cell_type": "code",
   "execution_count": 12,
   "id": "b29e35f0",
   "metadata": {},
   "outputs": [
    {
     "name": "stdout",
     "output_type": "stream",
     "text": [
      "Mean absolute GC% difference: 0.0000%\n"
     ]
    }
   ],
   "source": [
    "mean_diff = df_compare[\"abs_diff\"].mean()\n",
    "print(f\"Mean absolute GC% difference: {mean_diff:.4f}%\")"
   ]
  },
  {
   "cell_type": "markdown",
   "id": "22e8db3a",
   "metadata": {},
   "source": [
    "### **Porównanie z wzorcową implementacją (duży plik)**"
   ]
  },
  {
   "cell_type": "code",
   "execution_count": 2,
   "id": "b0d18c6d",
   "metadata": {},
   "outputs": [
    {
     "name": "stderr",
     "output_type": "stream",
     "text": [
      "INFO:polars_bio:Table: err194147 registered for path: /home/kzaleskaa/Projects/tbd-zespol-11/polars-bio/tests/data/gc_content/ERR194147.fastq\n"
     ]
    },
    {
     "data": {
      "application/vnd.jupyter.widget-view+json": {
       "model_id": "6cb6d691c00c452da8a9a98f938a37ca",
       "version_major": 2,
       "version_minor": 0
      },
      "text/plain": [
       "0rows [00:00, ?rows/s]"
      ]
     },
     "metadata": {},
     "output_type": "display_data"
    }
   ],
   "source": [
    "df_big = pb.read_fastq(\"/home/kzaleskaa/Projects/tbd-zespol-11/polars-bio/tests/data/gc_content/ERR194147.fastq\").collect()"
   ]
  },
  {
   "cell_type": "code",
   "execution_count": 3,
   "id": "4e048cba",
   "metadata": {},
   "outputs": [
    {
     "data": {
      "application/vnd.jupyter.widget-view+json": {
       "model_id": "2bb158ab895d420987376b3caf644a4d",
       "version_major": 2,
       "version_minor": 0
      },
      "text/plain": [
       "0rows [00:00, ?rows/s]"
      ]
     },
     "metadata": {},
     "output_type": "display_data"
    },
    {
     "data": {
      "text/html": [
       "<div><style>\n",
       ".dataframe > thead > tr,\n",
       ".dataframe > tbody > tr {\n",
       "  text-align: right;\n",
       "  white-space: pre-wrap;\n",
       "}\n",
       "</style>\n",
       "<small>shape: (6, 4)</small><table border=\"1\" class=\"dataframe\"><thead><tr><th>table_catalog</th><th>table_schema</th><th>table_name</th><th>table_type</th></tr><tr><td>str</td><td>str</td><td>str</td><td>str</td></tr></thead><tbody><tr><td>&quot;datafusion&quot;</td><td>&quot;public&quot;</td><td>&quot;err194147&quot;</td><td>&quot;BASE TABLE&quot;</td></tr><tr><td>&quot;datafusion&quot;</td><td>&quot;information_schema&quot;</td><td>&quot;tables&quot;</td><td>&quot;VIEW&quot;</td></tr><tr><td>&quot;datafusion&quot;</td><td>&quot;information_schema&quot;</td><td>&quot;views&quot;</td><td>&quot;VIEW&quot;</td></tr><tr><td>&quot;datafusion&quot;</td><td>&quot;information_schema&quot;</td><td>&quot;columns&quot;</td><td>&quot;VIEW&quot;</td></tr><tr><td>&quot;datafusion&quot;</td><td>&quot;information_schema&quot;</td><td>&quot;df_settings&quot;</td><td>&quot;VIEW&quot;</td></tr><tr><td>&quot;datafusion&quot;</td><td>&quot;information_schema&quot;</td><td>&quot;schemata&quot;</td><td>&quot;VIEW&quot;</td></tr></tbody></table></div>"
      ],
      "text/plain": [
       "shape: (6, 4)\n",
       "┌───────────────┬────────────────────┬─────────────┬────────────┐\n",
       "│ table_catalog ┆ table_schema       ┆ table_name  ┆ table_type │\n",
       "│ ---           ┆ ---                ┆ ---         ┆ ---        │\n",
       "│ str           ┆ str                ┆ str         ┆ str        │\n",
       "╞═══════════════╪════════════════════╪═════════════╪════════════╡\n",
       "│ datafusion    ┆ public             ┆ err194147   ┆ BASE TABLE │\n",
       "│ datafusion    ┆ information_schema ┆ tables      ┆ VIEW       │\n",
       "│ datafusion    ┆ information_schema ┆ views       ┆ VIEW       │\n",
       "│ datafusion    ┆ information_schema ┆ columns     ┆ VIEW       │\n",
       "│ datafusion    ┆ information_schema ┆ df_settings ┆ VIEW       │\n",
       "│ datafusion    ┆ information_schema ┆ schemata    ┆ VIEW       │\n",
       "└───────────────┴────────────────────┴─────────────┴────────────┘"
      ]
     },
     "execution_count": 3,
     "metadata": {},
     "output_type": "execute_result"
    }
   ],
   "source": [
    "pb.sql(\"show tables\").collect()"
   ]
  },
  {
   "cell_type": "code",
   "execution_count": 4,
   "id": "476195a7",
   "metadata": {},
   "outputs": [
    {
     "data": {
      "application/vnd.jupyter.widget-view+json": {
       "model_id": "88831d9cabc84d4fbd0f4132c21ee539",
       "version_major": 2,
       "version_minor": 0
      },
      "text/plain": [
       "0rows [00:00, ?rows/s]"
      ]
     },
     "metadata": {},
     "output_type": "display_data"
    },
    {
     "name": "stdout",
     "output_type": "stream",
     "text": [
      "Query execution time: 97.24 seconds\n"
     ]
    }
   ],
   "source": [
    "start = time.time()\n",
    "df_results_big = pb.sql(\"select sequence, gc_content(sequence) as gc from err194147\").collect()\n",
    "end = time.time()\n",
    "\n",
    "print(f\"Query execution time: {end - start:.2f} seconds\")"
   ]
  },
  {
   "cell_type": "code",
   "execution_count": 2,
   "id": "c76bae19",
   "metadata": {},
   "outputs": [
    {
     "name": "stdout",
     "output_type": "stream",
     "text": [
      "Execution time: 8.44313 seconds\n"
     ]
    }
   ],
   "source": [
    "start = time.time()\n",
    "\n",
    "subprocess.run(\n",
    "    [\n",
    "        \"fqc\",\n",
    "        \"-q\",\n",
    "        \"/home/kzaleskaa/Projects/tbd-zespol-11/polars-bio/tests/data/gc_content/ERR194147.fastq\"\n",
    "    ],\n",
    "    stdout=open(\"report_big.json\", \"w\")\n",
    ")\n",
    "\n",
    "end = time.time()\n",
    "print(f\"Execution time: {end - start:.5f} seconds\")"
   ]
  },
  {
   "cell_type": "markdown",
   "id": "5c1384a7",
   "metadata": {},
   "source": [
    "### **Porównanie czasu wykonania**\n",
    "\n",
    "Przeprowadzono pomiar czasu wykonania zapytania SQL `gc_content(sequence)` dla dwóch zestawów danych: małego i dużego. Wyniki porównano z implementacją wzorcową.\n",
    "\n",
    "| Zestaw danych | Nasza implementacja | Wzorcowa implementacja | Różnica |\n",
    "|---------------|---------------------|-------------------------|---------|\n",
    "| Mały          | 0.03 s              | 0.00791 s               | ~3.8× wolniej |\n",
    "| Duży          | 97.24 s             | 8.44 s                  | ~11.5× wolniej |"
   ]
  },
  {
   "cell_type": "markdown",
   "id": "dda256b5",
   "metadata": {},
   "source": [
    "### **Testy funkcji `gc_content`**\n",
    "\n",
    "Testy jednostkowe zawarte w klasie `TestSQLGCContent` (plik `tests/test_gc_content.py`) weryfikują poprawność działania funkcji UDF `gc_content`, która oblicza procentową zawartość nukleotydów G i C w sekwencjach DNA.\n",
    "\n",
    "**Zakres testów:**\n",
    "\n",
    "- **Poprawność działania zapytania SQL** - sprawdzamy, czy zapytanie `SELECT sequence, gc_content(sequence) AS gc FROM reads` wykonuje się poprawnie na danych FASTQ.\n",
    "\n",
    "- **Zgodność wymiarów i schematu danych** - weryfikujemy, czy wynikowe dane mają taki sam kształt i kolumny (`sequence`, `gc`) jak dane referencyjne.\n",
    "\n",
    "- **Typy danych** - sprawdzamy, czy kolumna `sequence` ma typ tekstowy (`object`), a `gc` typ zmiennoprzecinkowy (`float64`).\n",
    "\n",
    "- **Zgodność wartości GC** - porównujemy obliczone wartości procentowe zawartości GC z oczekiwanymi wynikami zapisanymi w `EXPECTED_SQL_GC_DF`.\n"
   ]
  }
 ],
 "metadata": {
  "kernelspec": {
   "display_name": ".venv",
   "language": "python",
   "name": "python3"
  },
  "language_info": {
   "codemirror_mode": {
    "name": "ipython",
    "version": 3
   },
   "file_extension": ".py",
   "mimetype": "text/x-python",
   "name": "python",
   "nbconvert_exporter": "python",
   "pygments_lexer": "ipython3",
   "version": "3.10.12"
  }
 },
 "nbformat": 4,
 "nbformat_minor": 5
}
