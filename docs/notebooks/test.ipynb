{
 "cells": [
  {
   "cell_type": "code",
   "execution_count": 6,
   "id": "20296a84",
   "metadata": {},
   "outputs": [],
   "source": [
    "import os\n",
    "os.getcwd()\n",
    "os.chdir(\"C:/Users/weral/Desktop/TBD/projekt\")"
   ]
  },
  {
   "cell_type": "code",
   "execution_count": null,
   "id": "f8123ba6",
   "metadata": {},
   "outputs": [
    {
     "ename": "ModuleNotFoundError",
     "evalue": "No module named 'polars_bio'",
     "output_type": "error",
     "traceback": [
      "\u001b[31m---------------------------------------------------------------------------\u001b[39m",
      "\u001b[31mModuleNotFoundError\u001b[39m                       Traceback (most recent call last)",
      "\u001b[36mCell\u001b[39m\u001b[36m \u001b[39m\u001b[32mIn[3]\u001b[39m\u001b[32m, line 1\u001b[39m\n\u001b[32m----> \u001b[39m\u001b[32m1\u001b[39m \u001b[38;5;28;01mfrom\u001b[39;00m\u001b[38;5;250m \u001b[39m\u001b[34;01mpolars_bio\u001b[39;00m\u001b[34;01m.\u001b[39;00m\u001b[34;01mpolars_bio\u001b[39;00m\u001b[34;01m.\u001b[39;00m\u001b[34;01mgc_content\u001b[39;00m\u001b[38;5;250m \u001b[39m\u001b[38;5;28;01mimport\u001b[39;00m gc_content, session\n\u001b[32m      3\u001b[39m ctx = session()\n\u001b[32m      4\u001b[39m df = gc_content(ctx)\n",
      "\u001b[31mModuleNotFoundError\u001b[39m: No module named 'polars_bio'"
     ]
    }
   ],
   "source": [
    "from polars_bio.gc_content import gc_content, session\n",
    " \n",
    "ctx = session()\n",
    "df = gc_content(ctx)\n",
    "df.show()"
   ]
  }
 ],
 "metadata": {
  "kernelspec": {
   "display_name": "Python 3",
   "language": "python",
   "name": "python3"
  },
  "language_info": {
   "codemirror_mode": {
    "name": "ipython",
    "version": 3
   },
   "file_extension": ".py",
   "mimetype": "text/x-python",
   "name": "python",
   "nbconvert_exporter": "python",
   "pygments_lexer": "ipython3",
   "version": "3.13.2"
  }
 },
 "nbformat": 4,
 "nbformat_minor": 5
}
